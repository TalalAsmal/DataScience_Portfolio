{
  "nbformat": 4,
  "nbformat_minor": 0,
  "metadata": {
    "colab": {
      "name": "CustomerChurn.ipynb",
      "provenance": []
    },
    "kernelspec": {
      "name": "python3",
      "display_name": "Python 3"
    },
    "language_info": {
      "name": "python"
    },
    "accelerator": "GPU"
  },
  "cells": [
    {
      "cell_type": "code",
      "execution_count": 1,
      "metadata": {
        "id": "gwV2pLwjMThN"
      },
      "outputs": [],
      "source": [
        "import pandas as pd\n",
        "import numpy as np\n",
        "import matplotlib.pyplot as plt"
      ]
    },
    {
      "cell_type": "code",
      "source": [
        "df = pd.read_csv('/content/WA_Fn-UseC_-Telco-Customer-Churn.csv')\n",
        "df.head()"
      ],
      "metadata": {
        "colab": {
          "base_uri": "https://localhost:8080/",
          "height": 386
        },
        "id": "er-Isk-0M5Kh",
        "outputId": "4f664fa9-326d-4a28-ead0-39f33a7fabfb"
      },
      "execution_count": 2,
      "outputs": [
        {
          "output_type": "execute_result",
          "data": {
            "text/plain": [
              "   customerID  gender  SeniorCitizen Partner Dependents  tenure PhoneService  \\\n",
              "0  7590-VHVEG  Female              0     Yes         No       1           No   \n",
              "1  5575-GNVDE    Male              0      No         No      34          Yes   \n",
              "2  3668-QPYBK    Male              0      No         No       2          Yes   \n",
              "3  7795-CFOCW    Male              0      No         No      45           No   \n",
              "4  9237-HQITU  Female              0      No         No       2          Yes   \n",
              "\n",
              "      MultipleLines InternetService OnlineSecurity  ... DeviceProtection  \\\n",
              "0  No phone service             DSL             No  ...               No   \n",
              "1                No             DSL            Yes  ...              Yes   \n",
              "2                No             DSL            Yes  ...               No   \n",
              "3  No phone service             DSL            Yes  ...              Yes   \n",
              "4                No     Fiber optic             No  ...               No   \n",
              "\n",
              "  TechSupport StreamingTV StreamingMovies        Contract PaperlessBilling  \\\n",
              "0          No          No              No  Month-to-month              Yes   \n",
              "1          No          No              No        One year               No   \n",
              "2          No          No              No  Month-to-month              Yes   \n",
              "3         Yes          No              No        One year               No   \n",
              "4          No          No              No  Month-to-month              Yes   \n",
              "\n",
              "               PaymentMethod MonthlyCharges  TotalCharges Churn  \n",
              "0           Electronic check          29.85         29.85    No  \n",
              "1               Mailed check          56.95        1889.5    No  \n",
              "2               Mailed check          53.85        108.15   Yes  \n",
              "3  Bank transfer (automatic)          42.30       1840.75    No  \n",
              "4           Electronic check          70.70        151.65   Yes  \n",
              "\n",
              "[5 rows x 21 columns]"
            ],
            "text/html": [
              "\n",
              "  <div id=\"df-89956d69-f357-4f6d-8c11-3890e8e59daf\">\n",
              "    <div class=\"colab-df-container\">\n",
              "      <div>\n",
              "<style scoped>\n",
              "    .dataframe tbody tr th:only-of-type {\n",
              "        vertical-align: middle;\n",
              "    }\n",
              "\n",
              "    .dataframe tbody tr th {\n",
              "        vertical-align: top;\n",
              "    }\n",
              "\n",
              "    .dataframe thead th {\n",
              "        text-align: right;\n",
              "    }\n",
              "</style>\n",
              "<table border=\"1\" class=\"dataframe\">\n",
              "  <thead>\n",
              "    <tr style=\"text-align: right;\">\n",
              "      <th></th>\n",
              "      <th>customerID</th>\n",
              "      <th>gender</th>\n",
              "      <th>SeniorCitizen</th>\n",
              "      <th>Partner</th>\n",
              "      <th>Dependents</th>\n",
              "      <th>tenure</th>\n",
              "      <th>PhoneService</th>\n",
              "      <th>MultipleLines</th>\n",
              "      <th>InternetService</th>\n",
              "      <th>OnlineSecurity</th>\n",
              "      <th>...</th>\n",
              "      <th>DeviceProtection</th>\n",
              "      <th>TechSupport</th>\n",
              "      <th>StreamingTV</th>\n",
              "      <th>StreamingMovies</th>\n",
              "      <th>Contract</th>\n",
              "      <th>PaperlessBilling</th>\n",
              "      <th>PaymentMethod</th>\n",
              "      <th>MonthlyCharges</th>\n",
              "      <th>TotalCharges</th>\n",
              "      <th>Churn</th>\n",
              "    </tr>\n",
              "  </thead>\n",
              "  <tbody>\n",
              "    <tr>\n",
              "      <th>0</th>\n",
              "      <td>7590-VHVEG</td>\n",
              "      <td>Female</td>\n",
              "      <td>0</td>\n",
              "      <td>Yes</td>\n",
              "      <td>No</td>\n",
              "      <td>1</td>\n",
              "      <td>No</td>\n",
              "      <td>No phone service</td>\n",
              "      <td>DSL</td>\n",
              "      <td>No</td>\n",
              "      <td>...</td>\n",
              "      <td>No</td>\n",
              "      <td>No</td>\n",
              "      <td>No</td>\n",
              "      <td>No</td>\n",
              "      <td>Month-to-month</td>\n",
              "      <td>Yes</td>\n",
              "      <td>Electronic check</td>\n",
              "      <td>29.85</td>\n",
              "      <td>29.85</td>\n",
              "      <td>No</td>\n",
              "    </tr>\n",
              "    <tr>\n",
              "      <th>1</th>\n",
              "      <td>5575-GNVDE</td>\n",
              "      <td>Male</td>\n",
              "      <td>0</td>\n",
              "      <td>No</td>\n",
              "      <td>No</td>\n",
              "      <td>34</td>\n",
              "      <td>Yes</td>\n",
              "      <td>No</td>\n",
              "      <td>DSL</td>\n",
              "      <td>Yes</td>\n",
              "      <td>...</td>\n",
              "      <td>Yes</td>\n",
              "      <td>No</td>\n",
              "      <td>No</td>\n",
              "      <td>No</td>\n",
              "      <td>One year</td>\n",
              "      <td>No</td>\n",
              "      <td>Mailed check</td>\n",
              "      <td>56.95</td>\n",
              "      <td>1889.5</td>\n",
              "      <td>No</td>\n",
              "    </tr>\n",
              "    <tr>\n",
              "      <th>2</th>\n",
              "      <td>3668-QPYBK</td>\n",
              "      <td>Male</td>\n",
              "      <td>0</td>\n",
              "      <td>No</td>\n",
              "      <td>No</td>\n",
              "      <td>2</td>\n",
              "      <td>Yes</td>\n",
              "      <td>No</td>\n",
              "      <td>DSL</td>\n",
              "      <td>Yes</td>\n",
              "      <td>...</td>\n",
              "      <td>No</td>\n",
              "      <td>No</td>\n",
              "      <td>No</td>\n",
              "      <td>No</td>\n",
              "      <td>Month-to-month</td>\n",
              "      <td>Yes</td>\n",
              "      <td>Mailed check</td>\n",
              "      <td>53.85</td>\n",
              "      <td>108.15</td>\n",
              "      <td>Yes</td>\n",
              "    </tr>\n",
              "    <tr>\n",
              "      <th>3</th>\n",
              "      <td>7795-CFOCW</td>\n",
              "      <td>Male</td>\n",
              "      <td>0</td>\n",
              "      <td>No</td>\n",
              "      <td>No</td>\n",
              "      <td>45</td>\n",
              "      <td>No</td>\n",
              "      <td>No phone service</td>\n",
              "      <td>DSL</td>\n",
              "      <td>Yes</td>\n",
              "      <td>...</td>\n",
              "      <td>Yes</td>\n",
              "      <td>Yes</td>\n",
              "      <td>No</td>\n",
              "      <td>No</td>\n",
              "      <td>One year</td>\n",
              "      <td>No</td>\n",
              "      <td>Bank transfer (automatic)</td>\n",
              "      <td>42.30</td>\n",
              "      <td>1840.75</td>\n",
              "      <td>No</td>\n",
              "    </tr>\n",
              "    <tr>\n",
              "      <th>4</th>\n",
              "      <td>9237-HQITU</td>\n",
              "      <td>Female</td>\n",
              "      <td>0</td>\n",
              "      <td>No</td>\n",
              "      <td>No</td>\n",
              "      <td>2</td>\n",
              "      <td>Yes</td>\n",
              "      <td>No</td>\n",
              "      <td>Fiber optic</td>\n",
              "      <td>No</td>\n",
              "      <td>...</td>\n",
              "      <td>No</td>\n",
              "      <td>No</td>\n",
              "      <td>No</td>\n",
              "      <td>No</td>\n",
              "      <td>Month-to-month</td>\n",
              "      <td>Yes</td>\n",
              "      <td>Electronic check</td>\n",
              "      <td>70.70</td>\n",
              "      <td>151.65</td>\n",
              "      <td>Yes</td>\n",
              "    </tr>\n",
              "  </tbody>\n",
              "</table>\n",
              "<p>5 rows × 21 columns</p>\n",
              "</div>\n",
              "      <button class=\"colab-df-convert\" onclick=\"convertToInteractive('df-89956d69-f357-4f6d-8c11-3890e8e59daf')\"\n",
              "              title=\"Convert this dataframe to an interactive table.\"\n",
              "              style=\"display:none;\">\n",
              "        \n",
              "  <svg xmlns=\"http://www.w3.org/2000/svg\" height=\"24px\"viewBox=\"0 0 24 24\"\n",
              "       width=\"24px\">\n",
              "    <path d=\"M0 0h24v24H0V0z\" fill=\"none\"/>\n",
              "    <path d=\"M18.56 5.44l.94 2.06.94-2.06 2.06-.94-2.06-.94-.94-2.06-.94 2.06-2.06.94zm-11 1L8.5 8.5l.94-2.06 2.06-.94-2.06-.94L8.5 2.5l-.94 2.06-2.06.94zm10 10l.94 2.06.94-2.06 2.06-.94-2.06-.94-.94-2.06-.94 2.06-2.06.94z\"/><path d=\"M17.41 7.96l-1.37-1.37c-.4-.4-.92-.59-1.43-.59-.52 0-1.04.2-1.43.59L10.3 9.45l-7.72 7.72c-.78.78-.78 2.05 0 2.83L4 21.41c.39.39.9.59 1.41.59.51 0 1.02-.2 1.41-.59l7.78-7.78 2.81-2.81c.8-.78.8-2.07 0-2.86zM5.41 20L4 18.59l7.72-7.72 1.47 1.35L5.41 20z\"/>\n",
              "  </svg>\n",
              "      </button>\n",
              "      \n",
              "  <style>\n",
              "    .colab-df-container {\n",
              "      display:flex;\n",
              "      flex-wrap:wrap;\n",
              "      gap: 12px;\n",
              "    }\n",
              "\n",
              "    .colab-df-convert {\n",
              "      background-color: #E8F0FE;\n",
              "      border: none;\n",
              "      border-radius: 50%;\n",
              "      cursor: pointer;\n",
              "      display: none;\n",
              "      fill: #1967D2;\n",
              "      height: 32px;\n",
              "      padding: 0 0 0 0;\n",
              "      width: 32px;\n",
              "    }\n",
              "\n",
              "    .colab-df-convert:hover {\n",
              "      background-color: #E2EBFA;\n",
              "      box-shadow: 0px 1px 2px rgba(60, 64, 67, 0.3), 0px 1px 3px 1px rgba(60, 64, 67, 0.15);\n",
              "      fill: #174EA6;\n",
              "    }\n",
              "\n",
              "    [theme=dark] .colab-df-convert {\n",
              "      background-color: #3B4455;\n",
              "      fill: #D2E3FC;\n",
              "    }\n",
              "\n",
              "    [theme=dark] .colab-df-convert:hover {\n",
              "      background-color: #434B5C;\n",
              "      box-shadow: 0px 1px 3px 1px rgba(0, 0, 0, 0.15);\n",
              "      filter: drop-shadow(0px 1px 2px rgba(0, 0, 0, 0.3));\n",
              "      fill: #FFFFFF;\n",
              "    }\n",
              "  </style>\n",
              "\n",
              "      <script>\n",
              "        const buttonEl =\n",
              "          document.querySelector('#df-89956d69-f357-4f6d-8c11-3890e8e59daf button.colab-df-convert');\n",
              "        buttonEl.style.display =\n",
              "          google.colab.kernel.accessAllowed ? 'block' : 'none';\n",
              "\n",
              "        async function convertToInteractive(key) {\n",
              "          const element = document.querySelector('#df-89956d69-f357-4f6d-8c11-3890e8e59daf');\n",
              "          const dataTable =\n",
              "            await google.colab.kernel.invokeFunction('convertToInteractive',\n",
              "                                                     [key], {});\n",
              "          if (!dataTable) return;\n",
              "\n",
              "          const docLinkHtml = 'Like what you see? Visit the ' +\n",
              "            '<a target=\"_blank\" href=https://colab.research.google.com/notebooks/data_table.ipynb>data table notebook</a>'\n",
              "            + ' to learn more about interactive tables.';\n",
              "          element.innerHTML = '';\n",
              "          dataTable['output_type'] = 'display_data';\n",
              "          await google.colab.output.renderOutput(dataTable, element);\n",
              "          const docLink = document.createElement('div');\n",
              "          docLink.innerHTML = docLinkHtml;\n",
              "          element.appendChild(docLink);\n",
              "        }\n",
              "      </script>\n",
              "    </div>\n",
              "  </div>\n",
              "  "
            ]
          },
          "metadata": {},
          "execution_count": 2
        }
      ]
    },
    {
      "cell_type": "code",
      "source": [
        "df.drop('customerID', axis=1, inplace=True)"
      ],
      "metadata": {
        "id": "PRDKSZrANF5J"
      },
      "execution_count": 3,
      "outputs": []
    },
    {
      "cell_type": "code",
      "source": [
        "df.dtypes"
      ],
      "metadata": {
        "colab": {
          "base_uri": "https://localhost:8080/"
        },
        "id": "rE6KAJesNK_R",
        "outputId": "74819356-b5ff-470c-cf61-aea056da618c"
      },
      "execution_count": 5,
      "outputs": [
        {
          "output_type": "execute_result",
          "data": {
            "text/plain": [
              "gender               object\n",
              "SeniorCitizen         int64\n",
              "Partner              object\n",
              "Dependents           object\n",
              "tenure                int64\n",
              "PhoneService         object\n",
              "MultipleLines        object\n",
              "InternetService      object\n",
              "OnlineSecurity       object\n",
              "OnlineBackup         object\n",
              "DeviceProtection     object\n",
              "TechSupport          object\n",
              "StreamingTV          object\n",
              "StreamingMovies      object\n",
              "Contract             object\n",
              "PaperlessBilling     object\n",
              "PaymentMethod        object\n",
              "MonthlyCharges      float64\n",
              "TotalCharges         object\n",
              "Churn                object\n",
              "dtype: object"
            ]
          },
          "metadata": {},
          "execution_count": 5
        }
      ]
    },
    {
      "cell_type": "code",
      "source": [
        "pd.to_numeric(df.TotalCharges, errors='coerce')"
      ],
      "metadata": {
        "colab": {
          "base_uri": "https://localhost:8080/"
        },
        "id": "b0rntGwJNRNh",
        "outputId": "507981f3-2662-4a31-accb-c0b823a62784"
      },
      "execution_count": 11,
      "outputs": [
        {
          "output_type": "execute_result",
          "data": {
            "text/plain": [
              "0         29.85\n",
              "1       1889.50\n",
              "2        108.15\n",
              "3       1840.75\n",
              "4        151.65\n",
              "         ...   \n",
              "7038    1990.50\n",
              "7039    7362.90\n",
              "7040     346.45\n",
              "7041     306.60\n",
              "7042    6844.50\n",
              "Name: TotalCharges, Length: 7043, dtype: float64"
            ]
          },
          "metadata": {},
          "execution_count": 11
        }
      ]
    },
    {
      "cell_type": "code",
      "source": [
        "df[pd.to_numeric(df.TotalCharges, errors='coerce').isnull()].shape"
      ],
      "metadata": {
        "colab": {
          "base_uri": "https://localhost:8080/"
        },
        "id": "00wgO7lyNrzq",
        "outputId": "ad6dfdf3-07a6-488b-d4ea-51e54df4df70"
      },
      "execution_count": 16,
      "outputs": [
        {
          "output_type": "execute_result",
          "data": {
            "text/plain": [
              "(11, 20)"
            ]
          },
          "metadata": {},
          "execution_count": 16
        }
      ]
    },
    {
      "cell_type": "code",
      "source": [
        "df1 = df[df.TotalCharges != ' ']"
      ],
      "metadata": {
        "id": "eEp6N5iiOcSr"
      },
      "execution_count": 17,
      "outputs": []
    },
    {
      "cell_type": "code",
      "source": [
        "df1.dtypes"
      ],
      "metadata": {
        "colab": {
          "base_uri": "https://localhost:8080/"
        },
        "id": "pnIpx4pdOiTP",
        "outputId": "f3d60083-a91d-4e05-fd13-417e36815250"
      },
      "execution_count": 18,
      "outputs": [
        {
          "output_type": "execute_result",
          "data": {
            "text/plain": [
              "gender               object\n",
              "SeniorCitizen         int64\n",
              "Partner              object\n",
              "Dependents           object\n",
              "tenure                int64\n",
              "PhoneService         object\n",
              "MultipleLines        object\n",
              "InternetService      object\n",
              "OnlineSecurity       object\n",
              "OnlineBackup         object\n",
              "DeviceProtection     object\n",
              "TechSupport          object\n",
              "StreamingTV          object\n",
              "StreamingMovies      object\n",
              "Contract             object\n",
              "PaperlessBilling     object\n",
              "PaymentMethod        object\n",
              "MonthlyCharges      float64\n",
              "TotalCharges         object\n",
              "Churn                object\n",
              "dtype: object"
            ]
          },
          "metadata": {},
          "execution_count": 18
        }
      ]
    },
    {
      "cell_type": "code",
      "source": [
        "df1.TotalCharges = pd.to_numeric(df1.TotalCharges)"
      ],
      "metadata": {
        "colab": {
          "base_uri": "https://localhost:8080/"
        },
        "id": "jIC3tYg_OncP",
        "outputId": "53c2329a-9cae-41aa-bedf-4104d1110e4f"
      },
      "execution_count": 21,
      "outputs": [
        {
          "output_type": "stream",
          "name": "stderr",
          "text": [
            "/usr/local/lib/python3.7/dist-packages/pandas/core/generic.py:5516: SettingWithCopyWarning: \n",
            "A value is trying to be set on a copy of a slice from a DataFrame.\n",
            "Try using .loc[row_indexer,col_indexer] = value instead\n",
            "\n",
            "See the caveats in the documentation: https://pandas.pydata.org/pandas-docs/stable/user_guide/indexing.html#returning-a-view-versus-a-copy\n",
            "  self[name] = value\n"
          ]
        }
      ]
    },
    {
      "cell_type": "code",
      "source": [
        "df1.dtypes"
      ],
      "metadata": {
        "colab": {
          "base_uri": "https://localhost:8080/"
        },
        "id": "I-R4OUOTOqvI",
        "outputId": "37b94339-5e88-4a12-b8fd-fd797408bcea"
      },
      "execution_count": 22,
      "outputs": [
        {
          "output_type": "execute_result",
          "data": {
            "text/plain": [
              "gender               object\n",
              "SeniorCitizen         int64\n",
              "Partner              object\n",
              "Dependents           object\n",
              "tenure                int64\n",
              "PhoneService         object\n",
              "MultipleLines        object\n",
              "InternetService      object\n",
              "OnlineSecurity       object\n",
              "OnlineBackup         object\n",
              "DeviceProtection     object\n",
              "TechSupport          object\n",
              "StreamingTV          object\n",
              "StreamingMovies      object\n",
              "Contract             object\n",
              "PaperlessBilling     object\n",
              "PaymentMethod        object\n",
              "MonthlyCharges      float64\n",
              "TotalCharges        float64\n",
              "Churn                object\n",
              "dtype: object"
            ]
          },
          "metadata": {},
          "execution_count": 22
        }
      ]
    },
    {
      "cell_type": "code",
      "source": [
        "tenure_churn_no = df1[df1.Churn == 'No'].tenure\n",
        "tenure_churn_yes = df1[df1.Churn == 'Yes'].tenure\n",
        "\n",
        "plt.hist([tenure_churn_yes, tenure_churn_no], color=['red','green'], label=['Left', 'Stayed'])\n",
        "plt.legend()\n",
        "plt.xlabel('Customer Tenure')\n",
        "plt.ylabel('Number of Customers')\n",
        "plt.title('Customer Churn Visualization Based on Tenure')"
      ],
      "metadata": {
        "colab": {
          "base_uri": "https://localhost:8080/",
          "height": 402
        },
        "id": "S4KkbmrsPLHw",
        "outputId": "0306aeb4-3f1a-40ff-b8dd-53239155b41a"
      },
      "execution_count": 34,
      "outputs": [
        {
          "output_type": "stream",
          "name": "stderr",
          "text": [
            "/usr/local/lib/python3.7/dist-packages/numpy/core/fromnumeric.py:3208: VisibleDeprecationWarning: Creating an ndarray from ragged nested sequences (which is a list-or-tuple of lists-or-tuples-or ndarrays with different lengths or shapes) is deprecated. If you meant to do this, you must specify 'dtype=object' when creating the ndarray.\n",
            "  return asarray(a).size\n",
            "/usr/local/lib/python3.7/dist-packages/matplotlib/cbook/__init__.py:1376: VisibleDeprecationWarning: Creating an ndarray from ragged nested sequences (which is a list-or-tuple of lists-or-tuples-or ndarrays with different lengths or shapes) is deprecated. If you meant to do this, you must specify 'dtype=object' when creating the ndarray.\n",
            "  X = np.atleast_1d(X.T if isinstance(X, np.ndarray) else np.asarray(X))\n"
          ]
        },
        {
          "output_type": "execute_result",
          "data": {
            "text/plain": [
              "Text(0.5, 1.0, 'Customer Churn Visualization Based on Tenure')"
            ]
          },
          "metadata": {},
          "execution_count": 34
        },
        {
          "output_type": "display_data",
          "data": {
            "text/plain": [
              "<Figure size 432x288 with 1 Axes>"
            ],
            "image/png": "[encoded data removed]"
          },
          "metadata": {
            "needs_background": "light"
          }
        }
      ]
    },
    {
      "cell_type": "code",
      "source": [
        "def unique_column_values(df):\n",
        "  for column in df:\n",
        "    if df[column].dtypes == 'object':\n",
        "      print(f'{column}: {df[column].unique()}')\n"
      ],
      "metadata": {
        "id": "8fKe6_49Q-L5"
      },
      "execution_count": 37,
      "outputs": []
    },
    {
      "cell_type": "code",
      "source": [
        "unique_column_values(df1)"
      ],
      "metadata": {
        "colab": {
          "base_uri": "https://localhost:8080/"
        },
        "id": "8A1qDcdWR966",
        "outputId": "1da1610e-dae0-476c-8c7f-7ff897c84ef6"
      },
      "execution_count": 38,
      "outputs": [
        {
          "output_type": "stream",
          "name": "stdout",
          "text": [
            "gender: ['Female' 'Male']\n",
            "Partner: ['Yes' 'No']\n",
            "Dependents: ['No' 'Yes']\n",
            "PhoneService: ['No' 'Yes']\n",
            "MultipleLines: ['No phone service' 'No' 'Yes']\n",
            "InternetService: ['DSL' 'Fiber optic' 'No']\n",
            "OnlineSecurity: ['No' 'Yes' 'No internet service']\n",
            "OnlineBackup: ['Yes' 'No' 'No internet service']\n",
            "DeviceProtection: ['No' 'Yes' 'No internet service']\n",
            "TechSupport: ['No' 'Yes' 'No internet service']\n",
            "StreamingTV: ['No' 'Yes' 'No internet service']\n",
            "StreamingMovies: ['No' 'Yes' 'No internet service']\n",
            "Contract: ['Month-to-month' 'One year' 'Two year']\n",
            "PaperlessBilling: ['Yes' 'No']\n",
            "PaymentMethod: ['Electronic check' 'Mailed check' 'Bank transfer (automatic)'\n",
            " 'Credit card (automatic)']\n",
            "Churn: ['No' 'Yes']\n"
          ]
        }
      ]
    },
    {
      "cell_type": "code",
      "source": [
        "df1.replace('No internet service', 'No', inplace=True)\n",
        "df1.replace('No phone service', 'No', inplace=True)"
      ],
      "metadata": {
        "id": "v-dsWvRcSOmb"
      },
      "execution_count": null,
      "outputs": []
    },
    {
      "cell_type": "code",
      "source": [
        "unique_column_values(df1)"
      ],
      "metadata": {
        "colab": {
          "base_uri": "https://localhost:8080/"
        },
        "id": "JDs3bNUASb1w",
        "outputId": "e0ffa6b1-7720-4030-c511-64e4d52a9a9e"
      },
      "execution_count": 40,
      "outputs": [
        {
          "output_type": "stream",
          "name": "stdout",
          "text": [
            "gender: ['Female' 'Male']\n",
            "Partner: ['Yes' 'No']\n",
            "Dependents: ['No' 'Yes']\n",
            "PhoneService: ['No' 'Yes']\n",
            "MultipleLines: ['No' 'Yes']\n",
            "InternetService: ['DSL' 'Fiber optic' 'No']\n",
            "OnlineSecurity: ['No' 'Yes']\n",
            "OnlineBackup: ['Yes' 'No']\n",
            "DeviceProtection: ['No' 'Yes']\n",
            "TechSupport: ['No' 'Yes']\n",
            "StreamingTV: ['No' 'Yes']\n",
            "StreamingMovies: ['No' 'Yes']\n",
            "Contract: ['Month-to-month' 'One year' 'Two year']\n",
            "PaperlessBilling: ['Yes' 'No']\n",
            "PaymentMethod: ['Electronic check' 'Mailed check' 'Bank transfer (automatic)'\n",
            " 'Credit card (automatic)']\n",
            "Churn: ['No' 'Yes']\n"
          ]
        }
      ]
    },
    {
      "cell_type": "code",
      "source": [
        "yes_no_col = ['Partner', 'Dependents','PhoneService', 'MultipleLines', \n",
        "              'OnlineSecurity', 'OnlineBackup', 'DeviceProtection', 'TechSupport', \n",
        "              'StreamingTV', 'StreamingMovies', 'PaperlessBilling', 'Churn']\n",
        "\n",
        "for col in yes_no_col:\n",
        "  df1[col].replace({'Yes' : 1, 'No' : 0}, inplace=True)"
      ],
      "metadata": {
        "id": "q3dJzgnOStOZ"
      },
      "execution_count": null,
      "outputs": []
    },
    {
      "cell_type": "code",
      "source": [
        "unique_column_values(df1)"
      ],
      "metadata": {
        "colab": {
          "base_uri": "https://localhost:8080/"
        },
        "id": "ufNNHXM0TeJR",
        "outputId": "5095190e-ae98-4ba4-a2a8-c99525482f39"
      },
      "execution_count": 42,
      "outputs": [
        {
          "output_type": "stream",
          "name": "stdout",
          "text": [
            "gender: ['Female' 'Male']\n",
            "InternetService: ['DSL' 'Fiber optic' 'No']\n",
            "Contract: ['Month-to-month' 'One year' 'Two year']\n",
            "PaymentMethod: ['Electronic check' 'Mailed check' 'Bank transfer (automatic)'\n",
            " 'Credit card (automatic)']\n"
          ]
        }
      ]
    },
    {
      "cell_type": "code",
      "source": [
        "df1['gender'].replace({'Female' : 1, 'Male' : 0}, inplace=True)"
      ],
      "metadata": {
        "id": "-sm6HTTjTr9A"
      },
      "execution_count": null,
      "outputs": []
    },
    {
      "cell_type": "code",
      "source": [
        "df2 = pd.get_dummies(data=df1, columns=['InternetService', 'Contract', 'PaymentMethod'])"
      ],
      "metadata": {
        "id": "waLF2djHUPWp"
      },
      "execution_count": 46,
      "outputs": []
    },
    {
      "cell_type": "code",
      "source": [
        "df2.dtypes"
      ],
      "metadata": {
        "colab": {
          "base_uri": "https://localhost:8080/"
        },
        "id": "wrf25E5AUckG",
        "outputId": "60542122-d2b1-4dad-e43c-cb83a428a128"
      },
      "execution_count": 49,
      "outputs": [
        {
          "output_type": "execute_result",
          "data": {
            "text/plain": [
              "gender                                       int64\n",
              "SeniorCitizen                                int64\n",
              "Partner                                      int64\n",
              "Dependents                                   int64\n",
              "tenure                                       int64\n",
              "PhoneService                                 int64\n",
              "MultipleLines                                int64\n",
              "OnlineSecurity                               int64\n",
              "OnlineBackup                                 int64\n",
              "DeviceProtection                             int64\n",
              "TechSupport                                  int64\n",
              "StreamingTV                                  int64\n",
              "StreamingMovies                              int64\n",
              "PaperlessBilling                             int64\n",
              "MonthlyCharges                             float64\n",
              "TotalCharges                               float64\n",
              "Churn                                        int64\n",
              "InternetService_DSL                          uint8\n",
              "InternetService_Fiber optic                  uint8\n",
              "InternetService_No                           uint8\n",
              "Contract_Month-to-month                      uint8\n",
              "Contract_One year                            uint8\n",
              "Contract_Two year                            uint8\n",
              "PaymentMethod_Bank transfer (automatic)      uint8\n",
              "PaymentMethod_Credit card (automatic)        uint8\n",
              "PaymentMethod_Electronic check               uint8\n",
              "PaymentMethod_Mailed check                   uint8\n",
              "dtype: object"
            ]
          },
          "metadata": {},
          "execution_count": 49
        }
      ]
    },
    {
      "cell_type": "code",
      "source": [
        "cols_to_scale = ['tenure', 'MonthlyCharges', 'TotalCharges']\n",
        "\n",
        "from sklearn.preprocessing import MinMaxScaler\n",
        "\n",
        "scaler = MinMaxScaler()"
      ],
      "metadata": {
        "id": "3VeAOl5DU4PK"
      },
      "execution_count": 51,
      "outputs": []
    },
    {
      "cell_type": "code",
      "source": [
        "df2[cols_to_scale] = scaler.fit_transform(df2[cols_to_scale])"
      ],
      "metadata": {
        "id": "xwHsCjm5VLeo"
      },
      "execution_count": 52,
      "outputs": []
    },
    {
      "cell_type": "code",
      "source": [
        "df2[cols_to_scale].head()"
      ],
      "metadata": {
        "colab": {
          "base_uri": "https://localhost:8080/",
          "height": 206
        },
        "id": "0Dt61e7FVaOh",
        "outputId": "6fc41485-90f5-43ea-f7e9-51f27a0c9cdd"
      },
      "execution_count": 54,
      "outputs": [
        {
          "output_type": "execute_result",
          "data": {
            "text/plain": [
              "     tenure  MonthlyCharges  TotalCharges\n",
              "0  0.000000        0.115423      0.001275\n",
              "1  0.464789        0.385075      0.215867\n",
              "2  0.014085        0.354229      0.010310\n",
              "3  0.619718        0.239303      0.210241\n",
              "4  0.014085        0.521891      0.015330"
            ],
            "text/html": [
              "\n",
              "  <div id=\"df-ffe88839-bdbd-4b44-81b0-f9d79c6d4ad3\">\n",
              "    <div class=\"colab-df-container\">\n",
              "      <div>\n",
              "<style scoped>\n",
              "    .dataframe tbody tr th:only-of-type {\n",
              "        vertical-align: middle;\n",
              "    }\n",
              "\n",
              "    .dataframe tbody tr th {\n",
              "        vertical-align: top;\n",
              "    }\n",
              "\n",
              "    .dataframe thead th {\n",
              "        text-align: right;\n",
              "    }\n",
              "</style>\n",
              "<table border=\"1\" class=\"dataframe\">\n",
              "  <thead>\n",
              "    <tr style=\"text-align: right;\">\n",
              "      <th></th>\n",
              "      <th>tenure</th>\n",
              "      <th>MonthlyCharges</th>\n",
              "      <th>TotalCharges</th>\n",
              "    </tr>\n",
              "  </thead>\n",
              "  <tbody>\n",
              "    <tr>\n",
              "      <th>0</th>\n",
              "      <td>0.000000</td>\n",
              "      <td>0.115423</td>\n",
              "      <td>0.001275</td>\n",
              "    </tr>\n",
              "    <tr>\n",
              "      <th>1</th>\n",
              "      <td>0.464789</td>\n",
              "      <td>0.385075</td>\n",
              "      <td>0.215867</td>\n",
              "    </tr>\n",
              "    <tr>\n",
              "      <th>2</th>\n",
              "      <td>0.014085</td>\n",
              "      <td>0.354229</td>\n",
              "      <td>0.010310</td>\n",
              "    </tr>\n",
              "    <tr>\n",
              "      <th>3</th>\n",
              "      <td>0.619718</td>\n",
              "      <td>0.239303</td>\n",
              "      <td>0.210241</td>\n",
              "    </tr>\n",
              "    <tr>\n",
              "      <th>4</th>\n",
              "      <td>0.014085</td>\n",
              "      <td>0.521891</td>\n",
              "      <td>0.015330</td>\n",
              "    </tr>\n",
              "  </tbody>\n",
              "</table>\n",
              "</div>\n",
              "      <button class=\"colab-df-convert\" onclick=\"convertToInteractive('df-ffe88839-bdbd-4b44-81b0-f9d79c6d4ad3')\"\n",
              "              title=\"Convert this dataframe to an interactive table.\"\n",
              "              style=\"display:none;\">\n",
              "        \n",
              "  <svg xmlns=\"http://www.w3.org/2000/svg\" height=\"24px\"viewBox=\"0 0 24 24\"\n",
              "       width=\"24px\">\n",
              "    <path d=\"M0 0h24v24H0V0z\" fill=\"none\"/>\n",
              "    <path d=\"M18.56 5.44l.94 2.06.94-2.06 2.06-.94-2.06-.94-.94-2.06-.94 2.06-2.06.94zm-11 1L8.5 8.5l.94-2.06 2.06-.94-2.06-.94L8.5 2.5l-.94 2.06-2.06.94zm10 10l.94 2.06.94-2.06 2.06-.94-2.06-.94-.94-2.06-.94 2.06-2.06.94z\"/><path d=\"M17.41 7.96l-1.37-1.37c-.4-.4-.92-.59-1.43-.59-.52 0-1.04.2-1.43.59L10.3 9.45l-7.72 7.72c-.78.78-.78 2.05 0 2.83L4 21.41c.39.39.9.59 1.41.59.51 0 1.02-.2 1.41-.59l7.78-7.78 2.81-2.81c.8-.78.8-2.07 0-2.86zM5.41 20L4 18.59l7.72-7.72 1.47 1.35L5.41 20z\"/>\n",
              "  </svg>\n",
              "      </button>\n",
              "      \n",
              "  <style>\n",
              "    .colab-df-container {\n",
              "      display:flex;\n",
              "      flex-wrap:wrap;\n",
              "      gap: 12px;\n",
              "    }\n",
              "\n",
              "    .colab-df-convert {\n",
              "      background-color: #E8F0FE;\n",
              "      border: none;\n",
              "      border-radius: 50%;\n",
              "      cursor: pointer;\n",
              "      display: none;\n",
              "      fill: #1967D2;\n",
              "      height: 32px;\n",
              "      padding: 0 0 0 0;\n",
              "      width: 32px;\n",
              "    }\n",
              "\n",
              "    .colab-df-convert:hover {\n",
              "      background-color: #E2EBFA;\n",
              "      box-shadow: 0px 1px 2px rgba(60, 64, 67, 0.3), 0px 1px 3px 1px rgba(60, 64, 67, 0.15);\n",
              "      fill: #174EA6;\n",
              "    }\n",
              "\n",
              "    [theme=dark] .colab-df-convert {\n",
              "      background-color: #3B4455;\n",
              "      fill: #D2E3FC;\n",
              "    }\n",
              "\n",
              "    [theme=dark] .colab-df-convert:hover {\n",
              "      background-color: #434B5C;\n",
              "      box-shadow: 0px 1px 3px 1px rgba(0, 0, 0, 0.15);\n",
              "      filter: drop-shadow(0px 1px 2px rgba(0, 0, 0, 0.3));\n",
              "      fill: #FFFFFF;\n",
              "    }\n",
              "  </style>\n",
              "\n",
              "      <script>\n",
              "        const buttonEl =\n",
              "          document.querySelector('#df-ffe88839-bdbd-4b44-81b0-f9d79c6d4ad3 button.colab-df-convert');\n",
              "        buttonEl.style.display =\n",
              "          google.colab.kernel.accessAllowed ? 'block' : 'none';\n",
              "\n",
              "        async function convertToInteractive(key) {\n",
              "          const element = document.querySelector('#df-ffe88839-bdbd-4b44-81b0-f9d79c6d4ad3');\n",
              "          const dataTable =\n",
              "            await google.colab.kernel.invokeFunction('convertToInteractive',\n",
              "                                                     [key], {});\n",
              "          if (!dataTable) return;\n",
              "\n",
              "          const docLinkHtml = 'Like what you see? Visit the ' +\n",
              "            '<a target=\"_blank\" href=https://colab.research.google.com/notebooks/data_table.ipynb>data table notebook</a>'\n",
              "            + ' to learn more about interactive tables.';\n",
              "          element.innerHTML = '';\n",
              "          dataTable['output_type'] = 'display_data';\n",
              "          await google.colab.output.renderOutput(dataTable, element);\n",
              "          const docLink = document.createElement('div');\n",
              "          docLink.innerHTML = docLinkHtml;\n",
              "          element.appendChild(docLink);\n",
              "        }\n",
              "      </script>\n",
              "    </div>\n",
              "  </div>\n",
              "  "
            ]
          },
          "metadata": {},
          "execution_count": 54
        }
      ]
    },
    {
      "cell_type": "code",
      "source": [
        "X = df2.drop('Churn', axis=1)\n",
        "y = df2.Churn"
      ],
      "metadata": {
        "id": "gEEPQAgLVsZi"
      },
      "execution_count": 55,
      "outputs": []
    },
    {
      "cell_type": "code",
      "source": [
        "from sklearn.model_selection import train_test_split\n",
        "\n",
        "X_train, X_test, y_train, y_test = train_test_split(X, y, test_size=0.2, random_state=5)"
      ],
      "metadata": {
        "id": "4AjksyioV0h5"
      },
      "execution_count": 57,
      "outputs": []
    },
    {
      "cell_type": "code",
      "source": [
        "import tensorflow as tf\n",
        "from tensorflow import keras"
      ],
      "metadata": {
        "id": "i2Ay2KdSWJ9Q"
      },
      "execution_count": 59,
      "outputs": []
    },
    {
      "cell_type": "code",
      "source": [
        "model = keras.Sequential([\n",
        "                          tf.keras.layers.Dense(20, input_shape=(26,), activation='relu'),\n",
        "                          tf.keras.layers.Dense(15, activation='relu'),\n",
        "                          tf.keras.layers.Dense(1, activation='sigmoid')\n",
        "])\n",
        "\n",
        "model.compile(\n",
        "    optimizer='nadam',\n",
        "    loss = 'binary_crossentropy',\n",
        "    metrics=['accuracy']\n",
        ")"
      ],
      "metadata": {
        "id": "xDY-SGbXWVua"
      },
      "execution_count": 84,
      "outputs": []
    },
    {
      "cell_type": "code",
      "source": [
        "model.fit(X_train, y_train, epochs=100)"
      ],
      "metadata": {
        "colab": {
          "base_uri": "https://localhost:8080/"
        },
        "id": "bdYcvVd0XQgm",
        "outputId": "7ed4653d-d2a1-465a-94dc-a24bd10093a7"
      },
      "execution_count": 85,
      "outputs": [
        {
          "output_type": "stream",
          "name": "stdout",
          "text": [
            "Epoch 1/100\n",
            "176/176 [==============================] - 2s 4ms/step - loss: 0.5516 - accuracy: 0.6978\n",
            "Epoch 2/100\n",
            "176/176 [==============================] - 1s 3ms/step - loss: 0.4308 - accuracy: 0.7884\n",
            "Epoch 3/100\n",
            "176/176 [==============================] - 1s 3ms/step - loss: 0.4189 - accuracy: 0.8018\n",
            "Epoch 4/100\n",
            "176/176 [==============================] - 1s 4ms/step - loss: 0.4155 - accuracy: 0.8043\n",
            "Epoch 5/100\n",
            "176/176 [==============================] - 1s 3ms/step - loss: 0.4128 - accuracy: 0.8069\n",
            "Epoch 6/100\n",
            "176/176 [==============================] - 1s 3ms/step - loss: 0.4111 - accuracy: 0.8076\n",
            "Epoch 7/100\n",
            "176/176 [==============================] - 1s 3ms/step - loss: 0.4091 - accuracy: 0.8098\n",
            "Epoch 8/100\n",
            "176/176 [==============================] - 1s 3ms/step - loss: 0.4078 - accuracy: 0.8107\n",
            "Epoch 9/100\n",
            "176/176 [==============================] - 1s 3ms/step - loss: 0.4069 - accuracy: 0.8094\n",
            "Epoch 10/100\n",
            "176/176 [==============================] - 1s 3ms/step - loss: 0.4057 - accuracy: 0.8124\n",
            "Epoch 11/100\n",
            "176/176 [==============================] - 0s 3ms/step - loss: 0.4048 - accuracy: 0.8098\n",
            "Epoch 12/100\n",
            "176/176 [==============================] - 1s 3ms/step - loss: 0.4031 - accuracy: 0.8119\n",
            "Epoch 13/100\n",
            "176/176 [==============================] - 1s 3ms/step - loss: 0.4030 - accuracy: 0.8132\n",
            "Epoch 14/100\n",
            "176/176 [==============================] - 1s 3ms/step - loss: 0.4024 - accuracy: 0.8103\n",
            "Epoch 15/100\n",
            "176/176 [==============================] - 1s 3ms/step - loss: 0.4013 - accuracy: 0.8126\n",
            "Epoch 16/100\n",
            "176/176 [==============================] - 1s 3ms/step - loss: 0.4004 - accuracy: 0.8149\n",
            "Epoch 17/100\n",
            "176/176 [==============================] - 0s 3ms/step - loss: 0.3993 - accuracy: 0.8160\n",
            "Epoch 18/100\n",
            "176/176 [==============================] - 1s 3ms/step - loss: 0.3986 - accuracy: 0.8119\n",
            "Epoch 19/100\n",
            "176/176 [==============================] - 1s 3ms/step - loss: 0.3980 - accuracy: 0.8112\n",
            "Epoch 20/100\n",
            "176/176 [==============================] - 1s 3ms/step - loss: 0.3973 - accuracy: 0.8133\n",
            "Epoch 21/100\n",
            "176/176 [==============================] - 1s 3ms/step - loss: 0.3966 - accuracy: 0.8128\n",
            "Epoch 22/100\n",
            "176/176 [==============================] - 1s 3ms/step - loss: 0.3957 - accuracy: 0.8167\n",
            "Epoch 23/100\n",
            "176/176 [==============================] - 1s 4ms/step - loss: 0.3949 - accuracy: 0.8132\n",
            "Epoch 24/100\n",
            "176/176 [==============================] - 1s 3ms/step - loss: 0.3943 - accuracy: 0.8142\n",
            "Epoch 25/100\n",
            "176/176 [==============================] - 1s 3ms/step - loss: 0.3926 - accuracy: 0.8174\n",
            "Epoch 26/100\n",
            "176/176 [==============================] - 1s 3ms/step - loss: 0.3925 - accuracy: 0.8123\n",
            "Epoch 27/100\n",
            "176/176 [==============================] - 1s 4ms/step - loss: 0.3922 - accuracy: 0.8148\n",
            "Epoch 28/100\n",
            "176/176 [==============================] - 1s 4ms/step - loss: 0.3909 - accuracy: 0.8188\n",
            "Epoch 29/100\n",
            "176/176 [==============================] - 1s 4ms/step - loss: 0.3909 - accuracy: 0.8183\n",
            "Epoch 30/100\n",
            "176/176 [==============================] - 1s 3ms/step - loss: 0.3897 - accuracy: 0.8148\n",
            "Epoch 31/100\n",
            "176/176 [==============================] - 1s 3ms/step - loss: 0.3888 - accuracy: 0.8146\n",
            "Epoch 32/100\n",
            "176/176 [==============================] - 1s 3ms/step - loss: 0.3884 - accuracy: 0.8187\n",
            "Epoch 33/100\n",
            "176/176 [==============================] - 0s 3ms/step - loss: 0.3876 - accuracy: 0.8178\n",
            "Epoch 34/100\n",
            "176/176 [==============================] - 1s 5ms/step - loss: 0.3862 - accuracy: 0.8185\n",
            "Epoch 35/100\n",
            "176/176 [==============================] - 1s 5ms/step - loss: 0.3866 - accuracy: 0.8183\n",
            "Epoch 36/100\n",
            "176/176 [==============================] - 1s 4ms/step - loss: 0.3856 - accuracy: 0.8201\n",
            "Epoch 37/100\n",
            "176/176 [==============================] - 1s 6ms/step - loss: 0.3845 - accuracy: 0.8194\n",
            "Epoch 38/100\n",
            "176/176 [==============================] - 1s 5ms/step - loss: 0.3843 - accuracy: 0.8197\n",
            "Epoch 39/100\n",
            "176/176 [==============================] - 1s 6ms/step - loss: 0.3829 - accuracy: 0.8203\n",
            "Epoch 40/100\n",
            "176/176 [==============================] - 1s 5ms/step - loss: 0.3824 - accuracy: 0.8219\n",
            "Epoch 41/100\n",
            "176/176 [==============================] - 1s 4ms/step - loss: 0.3813 - accuracy: 0.8220\n",
            "Epoch 42/100\n",
            "176/176 [==============================] - 1s 5ms/step - loss: 0.3810 - accuracy: 0.8217\n",
            "Epoch 43/100\n",
            "176/176 [==============================] - 1s 4ms/step - loss: 0.3802 - accuracy: 0.8268\n",
            "Epoch 44/100\n",
            "176/176 [==============================] - 1s 4ms/step - loss: 0.3801 - accuracy: 0.8226\n",
            "Epoch 45/100\n",
            "176/176 [==============================] - 1s 6ms/step - loss: 0.3796 - accuracy: 0.8260\n",
            "Epoch 46/100\n",
            "176/176 [==============================] - 1s 5ms/step - loss: 0.3789 - accuracy: 0.8233\n",
            "Epoch 47/100\n",
            "176/176 [==============================] - 1s 3ms/step - loss: 0.3780 - accuracy: 0.8268\n",
            "Epoch 48/100\n",
            "176/176 [==============================] - 1s 4ms/step - loss: 0.3777 - accuracy: 0.8277\n",
            "Epoch 49/100\n",
            "176/176 [==============================] - 1s 3ms/step - loss: 0.3767 - accuracy: 0.8270\n",
            "Epoch 50/100\n",
            "176/176 [==============================] - 1s 3ms/step - loss: 0.3774 - accuracy: 0.8279\n",
            "Epoch 51/100\n",
            "176/176 [==============================] - 1s 5ms/step - loss: 0.3759 - accuracy: 0.8277\n",
            "Epoch 52/100\n",
            "176/176 [==============================] - 1s 4ms/step - loss: 0.3754 - accuracy: 0.8279\n",
            "Epoch 53/100\n",
            "176/176 [==============================] - 1s 3ms/step - loss: 0.3747 - accuracy: 0.8268\n",
            "Epoch 54/100\n",
            "176/176 [==============================] - 1s 4ms/step - loss: 0.3742 - accuracy: 0.8302\n",
            "Epoch 55/100\n",
            "176/176 [==============================] - 1s 4ms/step - loss: 0.3741 - accuracy: 0.8277\n",
            "Epoch 56/100\n",
            "176/176 [==============================] - 1s 5ms/step - loss: 0.3742 - accuracy: 0.8286\n",
            "Epoch 57/100\n",
            "176/176 [==============================] - 1s 4ms/step - loss: 0.3732 - accuracy: 0.8238\n",
            "Epoch 58/100\n",
            "176/176 [==============================] - 1s 4ms/step - loss: 0.3726 - accuracy: 0.8283\n",
            "Epoch 59/100\n",
            "176/176 [==============================] - 1s 5ms/step - loss: 0.3723 - accuracy: 0.8265\n",
            "Epoch 60/100\n",
            "176/176 [==============================] - 1s 7ms/step - loss: 0.3711 - accuracy: 0.8288\n",
            "Epoch 61/100\n",
            "176/176 [==============================] - 1s 6ms/step - loss: 0.3713 - accuracy: 0.8304\n",
            "Epoch 62/100\n",
            "176/176 [==============================] - 1s 3ms/step - loss: 0.3704 - accuracy: 0.8316\n",
            "Epoch 63/100\n",
            "176/176 [==============================] - 1s 3ms/step - loss: 0.3701 - accuracy: 0.8311\n",
            "Epoch 64/100\n",
            "176/176 [==============================] - 1s 3ms/step - loss: 0.3696 - accuracy: 0.8299\n",
            "Epoch 65/100\n",
            "176/176 [==============================] - 1s 3ms/step - loss: 0.3698 - accuracy: 0.8279\n",
            "Epoch 66/100\n",
            "176/176 [==============================] - 1s 3ms/step - loss: 0.3693 - accuracy: 0.8300\n",
            "Epoch 67/100\n",
            "176/176 [==============================] - 1s 3ms/step - loss: 0.3694 - accuracy: 0.8308\n",
            "Epoch 68/100\n",
            "176/176 [==============================] - 1s 4ms/step - loss: 0.3680 - accuracy: 0.8315\n",
            "Epoch 69/100\n",
            "176/176 [==============================] - 0s 2ms/step - loss: 0.3673 - accuracy: 0.8308\n",
            "Epoch 70/100\n",
            "176/176 [==============================] - 0s 2ms/step - loss: 0.3675 - accuracy: 0.8334\n",
            "Epoch 71/100\n",
            "176/176 [==============================] - 0s 2ms/step - loss: 0.3661 - accuracy: 0.8334\n",
            "Epoch 72/100\n",
            "176/176 [==============================] - 0s 2ms/step - loss: 0.3664 - accuracy: 0.8311\n",
            "Epoch 73/100\n",
            "176/176 [==============================] - 0s 2ms/step - loss: 0.3665 - accuracy: 0.8318\n",
            "Epoch 74/100\n",
            "176/176 [==============================] - 0s 2ms/step - loss: 0.3654 - accuracy: 0.8318\n",
            "Epoch 75/100\n",
            "176/176 [==============================] - 0s 2ms/step - loss: 0.3664 - accuracy: 0.8338\n",
            "Epoch 76/100\n",
            "176/176 [==============================] - 0s 2ms/step - loss: 0.3647 - accuracy: 0.8329\n",
            "Epoch 77/100\n",
            "176/176 [==============================] - 0s 2ms/step - loss: 0.3646 - accuracy: 0.8343\n",
            "Epoch 78/100\n",
            "176/176 [==============================] - 0s 2ms/step - loss: 0.3645 - accuracy: 0.8308\n",
            "Epoch 79/100\n",
            "176/176 [==============================] - 0s 2ms/step - loss: 0.3640 - accuracy: 0.8318\n",
            "Epoch 80/100\n",
            "176/176 [==============================] - 0s 2ms/step - loss: 0.3632 - accuracy: 0.8350\n",
            "Epoch 81/100\n",
            "176/176 [==============================] - 0s 2ms/step - loss: 0.3627 - accuracy: 0.8334\n",
            "Epoch 82/100\n",
            "176/176 [==============================] - 0s 2ms/step - loss: 0.3625 - accuracy: 0.8345\n",
            "Epoch 83/100\n",
            "176/176 [==============================] - 0s 2ms/step - loss: 0.3634 - accuracy: 0.8324\n",
            "Epoch 84/100\n",
            "176/176 [==============================] - 0s 2ms/step - loss: 0.3623 - accuracy: 0.8361\n",
            "Epoch 85/100\n",
            "176/176 [==============================] - 0s 2ms/step - loss: 0.3604 - accuracy: 0.8352\n",
            "Epoch 86/100\n",
            "176/176 [==============================] - 0s 2ms/step - loss: 0.3614 - accuracy: 0.8347\n",
            "Epoch 87/100\n",
            "176/176 [==============================] - 0s 2ms/step - loss: 0.3614 - accuracy: 0.8331\n",
            "Epoch 88/100\n",
            "176/176 [==============================] - 0s 2ms/step - loss: 0.3597 - accuracy: 0.8359\n",
            "Epoch 89/100\n",
            "176/176 [==============================] - 0s 2ms/step - loss: 0.3601 - accuracy: 0.8357\n",
            "Epoch 90/100\n",
            "176/176 [==============================] - 0s 2ms/step - loss: 0.3595 - accuracy: 0.8359\n",
            "Epoch 91/100\n",
            "176/176 [==============================] - 0s 2ms/step - loss: 0.3587 - accuracy: 0.8356\n",
            "Epoch 92/100\n",
            "176/176 [==============================] - 0s 2ms/step - loss: 0.3588 - accuracy: 0.8357\n",
            "Epoch 93/100\n",
            "176/176 [==============================] - 0s 2ms/step - loss: 0.3586 - accuracy: 0.8363\n",
            "Epoch 94/100\n",
            "176/176 [==============================] - 0s 2ms/step - loss: 0.3580 - accuracy: 0.8373\n",
            "Epoch 95/100\n",
            "176/176 [==============================] - 0s 2ms/step - loss: 0.3575 - accuracy: 0.8368\n",
            "Epoch 96/100\n",
            "176/176 [==============================] - 0s 2ms/step - loss: 0.3577 - accuracy: 0.8370\n",
            "Epoch 97/100\n",
            "176/176 [==============================] - 0s 2ms/step - loss: 0.3577 - accuracy: 0.8373\n",
            "Epoch 98/100\n",
            "176/176 [==============================] - 0s 2ms/step - loss: 0.3562 - accuracy: 0.8393\n",
            "Epoch 99/100\n",
            "176/176 [==============================] - 0s 2ms/step - loss: 0.3566 - accuracy: 0.8395\n",
            "Epoch 100/100\n",
            "176/176 [==============================] - 0s 2ms/step - loss: 0.3558 - accuracy: 0.8400\n"
          ]
        },
        {
          "output_type": "execute_result",
          "data": {
            "text/plain": [
              "<keras.callbacks.History at 0x7f9a4c0fa8d0>"
            ]
          },
          "metadata": {},
          "execution_count": 85
        }
      ]
    },
    {
      "cell_type": "code",
      "source": [
        "model.evaluate(X_test, y_test)"
      ],
      "metadata": {
        "colab": {
          "base_uri": "https://localhost:8080/"
        },
        "id": "foCttYSkX5T7",
        "outputId": "ae2f96dd-e97e-413e-cbf5-1942f39b91a6"
      },
      "execution_count": 86,
      "outputs": [
        {
          "output_type": "stream",
          "name": "stdout",
          "text": [
            "44/44 [==============================] - 0s 2ms/step - loss: 0.4747 - accuracy: 0.7768\n"
          ]
        },
        {
          "output_type": "execute_result",
          "data": {
            "text/plain": [
              "[0.47474008798599243, 0.7768301367759705]"
            ]
          },
          "metadata": {},
          "execution_count": 86
        }
      ]
    },
    {
      "cell_type": "code",
      "source": [
        "yp = model.predict(X_test)"
      ],
      "metadata": {
        "id": "iG8agC4QYJoZ"
      },
      "execution_count": 87,
      "outputs": []
    },
    {
      "cell_type": "code",
      "source": [
        "y_pred = []\n",
        "\n",
        "for element in yp:\n",
        "  if element > 0.5:\n",
        "    y_pred.append(1)\n",
        "  else:\n",
        "    y_pred.append(0)"
      ],
      "metadata": {
        "id": "Ty4yJuDeYNph"
      },
      "execution_count": 88,
      "outputs": []
    },
    {
      "cell_type": "code",
      "source": [
        "from sklearn.metrics import confusion_matrix, classification_report\n",
        "\n",
        "print(classification_report(y_test, y_pred))"
      ],
      "metadata": {
        "colab": {
          "base_uri": "https://localhost:8080/"
        },
        "id": "kOWUf6IBYdxJ",
        "outputId": "520b2f0d-a731-4a37-da20-da49d8ed2bcc"
      },
      "execution_count": 89,
      "outputs": [
        {
          "output_type": "stream",
          "name": "stdout",
          "text": [
            "              precision    recall  f1-score   support\n",
            "\n",
            "           0       0.82      0.87      0.85       999\n",
            "           1       0.63      0.55      0.59       408\n",
            "\n",
            "    accuracy                           0.78      1407\n",
            "   macro avg       0.73      0.71      0.72      1407\n",
            "weighted avg       0.77      0.78      0.77      1407\n",
            "\n"
          ]
        }
      ]
    },
    {
      "cell_type": "code",
      "source": [
        "import seaborn as sn\n",
        "cm = tf.math.confusion_matrix(labels=y_test, predictions=y_pred)\n",
        "\n",
        "plt.figure(figsize=[10,7])\n",
        "sn.heatmap(cm, annot=True, fmt='d')\n",
        "plt.xlabel('Predicted')\n",
        "plt.ylabel('True')"
      ],
      "metadata": {
        "colab": {
          "base_uri": "https://localhost:8080/",
          "height": 459
        },
        "id": "tit46TYrZMyp",
        "outputId": "d401f075-ab1e-4fcd-b865-552a25a9de4a"
      },
      "execution_count": 90,
      "outputs": [
        {
          "output_type": "execute_result",
          "data": {
            "text/plain": [
              "Text(69.0, 0.5, 'True')"
            ]
          },
          "metadata": {},
          "execution_count": 90
        },
        {
          "output_type": "display_data",
          "data": {
            "text/plain": [
              "<Figure size 720x504 with 2 Axes>"
            ],
            "image/png": "[encoded data removed]"
          },
          "metadata": {
            "needs_background": "light"
          }
        }
      ]
    }
  ]
}